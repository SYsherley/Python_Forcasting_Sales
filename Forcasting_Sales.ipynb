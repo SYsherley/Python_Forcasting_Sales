{
 "cells": [
  {
   "cell_type": "markdown",
   "id": "f1319a17",
   "metadata": {},
   "source": [
    "## Forecasting Mini-Course Sales"
   ]
  },
  {
   "cell_type": "markdown",
   "id": "9a5720e0",
   "metadata": {},
   "source": [
    "This analysis predicts a full year worth of sales for various learning modules from different branded stores in different countries. The task is predicting sales during for year 2022. "
   ]
  },
  {
   "cell_type": "code",
   "execution_count": null,
   "id": "4ec77065",
   "metadata": {},
   "outputs": [],
   "source": []
  },
  {
   "cell_type": "code",
   "execution_count": null,
   "id": "3ea944f2",
   "metadata": {},
   "outputs": [],
   "source": []
  },
  {
   "cell_type": "code",
   "execution_count": null,
   "id": "628ec8bb",
   "metadata": {},
   "outputs": [],
   "source": []
  }
 ],
 "metadata": {
  "kernelspec": {
   "display_name": "Python 3 (ipykernel)",
   "language": "python",
   "name": "python3"
  },
  "language_info": {
   "codemirror_mode": {
    "name": "ipython",
    "version": 3
   },
   "file_extension": ".py",
   "mimetype": "text/x-python",
   "name": "python",
   "nbconvert_exporter": "python",
   "pygments_lexer": "ipython3",
   "version": "3.10.9"
  }
 },
 "nbformat": 4,
 "nbformat_minor": 5
}
