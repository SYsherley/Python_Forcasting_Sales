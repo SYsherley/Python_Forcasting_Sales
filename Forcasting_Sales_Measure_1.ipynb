{
 "cells": [
  {
   "cell_type": "markdown",
   "id": "cf100925",
   "metadata": {},
   "source": [
    "# Forcasting Sales"
   ]
  },
  {
   "cell_type": "markdown",
   "id": "c6655d0b",
   "metadata": {},
   "source": [
    "This analysis predicts a full year worth of sales for various learning modules from different branded stores in different countries. The task is predicting sales during for year 2022."
   ]
  },
  {
   "cell_type": "code",
   "execution_count": 43,
   "id": "c381ed32",
   "metadata": {},
   "outputs": [],
   "source": [
    "import numpy as np # linear algebra\n",
    "import pandas as pd # data processing, CSV file I/O (e.g. pd.read_csv)"
   ]
  },
  {
   "cell_type": "code",
   "execution_count": 44,
   "id": "1a9cf285",
   "metadata": {},
   "outputs": [],
   "source": [
    "from sklearn.model_selection import train_test_split # Split the dataset into training and testing sets. This is a common step in ML to assess how well the model generalizes to new data. \n",
    "from sklearn.ensemble import RandomForestRegressor   # A machine learning model for regression tasks based on an ensemble of decision trees. \n",
    "from sklearn.metrics import mean_absolute_error      # Evaluate the performance of a regression model by calculating the mean absolute difference between predicted and true values.\n",
    "from sklearn.preprocessing import LabelEncoder       # Encoding categorical labels with integer values. Prepare categorical data for machine learning algorithms. "
   ]
  },
  {
   "cell_type": "markdown",
   "id": "f576873d",
   "metadata": {},
   "source": [
    "### Load the training and test datasets"
   ]
  },
  {
   "cell_type": "code",
   "execution_count": 45,
   "id": "90e539ad",
   "metadata": {},
   "outputs": [
    {
     "name": "stdout",
     "output_type": "stream",
     "text": [
      "   id        date    country         store  \\\n",
      "0   0  2017-01-01  Argentina  Kaggle Learn   \n",
      "1   1  2017-01-01  Argentina  Kaggle Learn   \n",
      "2   2  2017-01-01  Argentina  Kaggle Learn   \n",
      "3   3  2017-01-01  Argentina  Kaggle Learn   \n",
      "4   4  2017-01-01  Argentina  Kaggle Learn   \n",
      "\n",
      "                                          product  num_sold  \n",
      "0               Using LLMs to Improve Your Coding        63  \n",
      "1                   Using LLMs to Train More LLMs        66  \n",
      "2  Using LLMs to Win Friends and Influence People         9  \n",
      "3      Using LLMs to Win More Kaggle Competitions        59  \n",
      "4                      Using LLMs to Write Better        49  \n"
     ]
    }
   ],
   "source": [
    "# Load the training data\n",
    "# Specify the path to the CSV file\n",
    "csv_file_path = \"C:/Users/18490/Downloads/Kaggle_Forecasting Mini-CourseSales/train.csv\"\n",
    "\n",
    "# Load the dataset into a pandas DataFrame\n",
    "train_data = pd.read_csv(csv_file_path)\n",
    "\n",
    "# Display the first few rows of the DataFrame\n",
    "print(train_data.head())"
   ]
  },
  {
   "cell_type": "code",
   "execution_count": 46,
   "id": "90b1118e",
   "metadata": {},
   "outputs": [
    {
     "name": "stdout",
     "output_type": "stream",
     "text": [
      "       id        date    country         store  \\\n",
      "0  136950  2022-01-01  Argentina  Kaggle Learn   \n",
      "1  136951  2022-01-01  Argentina  Kaggle Learn   \n",
      "2  136952  2022-01-01  Argentina  Kaggle Learn   \n",
      "3  136953  2022-01-01  Argentina  Kaggle Learn   \n",
      "4  136954  2022-01-01  Argentina  Kaggle Learn   \n",
      "\n",
      "                                          product  \n",
      "0               Using LLMs to Improve Your Coding  \n",
      "1                   Using LLMs to Train More LLMs  \n",
      "2  Using LLMs to Win Friends and Influence People  \n",
      "3      Using LLMs to Win More Kaggle Competitions  \n",
      "4                      Using LLMs to Write Better  \n"
     ]
    }
   ],
   "source": [
    "# Load the test data\n",
    "test_data = pd.read_csv(\"C:/Users/18490/Downloads/Kaggle_Forecasting Mini-CourseSales/test.csv\")\n",
    "\n",
    "print(test_data.head())"
   ]
  },
  {
   "cell_type": "code",
   "execution_count": 47,
   "id": "27c9fe25",
   "metadata": {},
   "outputs": [
    {
     "name": "stdout",
     "output_type": "stream",
     "text": [
      "<class 'pandas.core.frame.DataFrame'>\n",
      "RangeIndex: 136950 entries, 0 to 136949\n",
      "Data columns (total 6 columns):\n",
      " #   Column    Non-Null Count   Dtype \n",
      "---  ------    --------------   ----- \n",
      " 0   id        136950 non-null  int64 \n",
      " 1   date      136950 non-null  object\n",
      " 2   country   136950 non-null  object\n",
      " 3   store     136950 non-null  object\n",
      " 4   product   136950 non-null  object\n",
      " 5   num_sold  136950 non-null  int64 \n",
      "dtypes: int64(2), object(4)\n",
      "memory usage: 6.3+ MB\n"
     ]
    }
   ],
   "source": [
    "train_data.info()"
   ]
  },
  {
   "cell_type": "markdown",
   "id": "2cfa3470",
   "metadata": {},
   "source": [
    "RangeIndex: 136950 entries, 0 to 136949"
   ]
  },
  {
   "cell_type": "code",
   "execution_count": 48,
   "id": "aac9ab54",
   "metadata": {
    "scrolled": false
   },
   "outputs": [
    {
     "name": "stdout",
     "output_type": "stream",
     "text": [
      "<class 'pandas.core.frame.DataFrame'>\n",
      "RangeIndex: 27375 entries, 0 to 27374\n",
      "Data columns (total 5 columns):\n",
      " #   Column   Non-Null Count  Dtype \n",
      "---  ------   --------------  ----- \n",
      " 0   id       27375 non-null  int64 \n",
      " 1   date     27375 non-null  object\n",
      " 2   country  27375 non-null  object\n",
      " 3   store    27375 non-null  object\n",
      " 4   product  27375 non-null  object\n",
      "dtypes: int64(1), object(4)\n",
      "memory usage: 1.0+ MB\n"
     ]
    }
   ],
   "source": [
    "test_data.info()"
   ]
  },
  {
   "cell_type": "markdown",
   "id": "e2b2f80d",
   "metadata": {},
   "source": [
    "  The columns of both DataFrames are the same. Therefore, two dataframe can be combined into 1 dataframe with a new index."
   ]
  },
  {
   "cell_type": "code",
   "execution_count": 49,
   "id": "6b9c43b3",
   "metadata": {},
   "outputs": [
    {
     "name": "stdout",
     "output_type": "stream",
     "text": [
      "   id        date    country         store  \\\n",
      "0   0  2017-01-01  Argentina  Kaggle Learn   \n",
      "1   1  2017-01-01  Argentina  Kaggle Learn   \n",
      "2   2  2017-01-01  Argentina  Kaggle Learn   \n",
      "3   3  2017-01-01  Argentina  Kaggle Learn   \n",
      "4   4  2017-01-01  Argentina  Kaggle Learn   \n",
      "\n",
      "                                          product  num_sold  \n",
      "0               Using LLMs to Improve Your Coding      63.0  \n",
      "1                   Using LLMs to Train More LLMs      66.0  \n",
      "2  Using LLMs to Win Friends and Influence People       9.0  \n",
      "3      Using LLMs to Win More Kaggle Competitions      59.0  \n",
      "4                      Using LLMs to Write Better      49.0  \n"
     ]
    }
   ],
   "source": [
    "# Combine two dataframes into one\n",
    "combined = pd.concat([train_data, test_data], ignore_index=True)\n",
    "\n",
    "print(combined.head())"
   ]
  },
  {
   "cell_type": "markdown",
   "id": "bbf05013",
   "metadata": {},
   "source": [
    "### Preprocessing"
   ]
  },
  {
   "cell_type": "code",
   "execution_count": 50,
   "id": "41a8a254",
   "metadata": {},
   "outputs": [],
   "source": [
    "# Label encoding\n",
    "le = LabelEncoder() # Encode categorical labels into numerical values. "
   ]
  },
  {
   "cell_type": "code",
   "execution_count": 51,
   "id": "c7039cfa",
   "metadata": {},
   "outputs": [],
   "source": [
    "# Extracting information from the Date column\n",
    "# Convert the Date column to a 'datetime' fomat\n",
    "combined['date'] = pd.to_datetime(combined['date'])"
   ]
  },
  {
   "cell_type": "code",
   "execution_count": 72,
   "id": "a37c38e3",
   "metadata": {},
   "outputs": [
    {
     "name": "stdout",
     "output_type": "stream",
     "text": [
      "   id       date    country         store  \\\n",
      "0   0 2017-01-01  Argentina  Kaggle Learn   \n",
      "1   1 2017-01-01  Argentina  Kaggle Learn   \n",
      "2   2 2017-01-01  Argentina  Kaggle Learn   \n",
      "3   3 2017-01-01  Argentina  Kaggle Learn   \n",
      "4   4 2017-01-01  Argentina  Kaggle Learn   \n",
      "\n",
      "                                          product  num_sold  year  month  day  \n",
      "0               Using LLMs to Improve Your Coding      63.0  2017      1    1  \n",
      "1                   Using LLMs to Train More LLMs      66.0  2017      1    1  \n",
      "2  Using LLMs to Win Friends and Influence People       9.0  2017      1    1  \n",
      "3      Using LLMs to Win More Kaggle Competitions      59.0  2017      1    1  \n",
      "4                      Using LLMs to Write Better      49.0  2017      1    1  \n"
     ]
    }
   ],
   "source": [
    "# Extract year, month and day to be seperate columns\n",
    "combined['year'] = combined['date'].dt.year.astype(int)\n",
    "combined['month'] = combined['date'].dt.month.astype(int)\n",
    "combined['day'] = combined['date'].dt.day.astype(int)\n",
    "print(combined.head())"
   ]
  },
  {
   "cell_type": "code",
   "execution_count": 73,
   "id": "a6956691",
   "metadata": {
    "scrolled": true
   },
   "outputs": [
    {
     "name": "stdout",
     "output_type": "stream",
     "text": [
      "   id    country         store  \\\n",
      "0   0  Argentina  Kaggle Learn   \n",
      "1   1  Argentina  Kaggle Learn   \n",
      "2   2  Argentina  Kaggle Learn   \n",
      "3   3  Argentina  Kaggle Learn   \n",
      "4   4  Argentina  Kaggle Learn   \n",
      "\n",
      "                                          product  num_sold  year  month  day  \n",
      "0               Using LLMs to Improve Your Coding      63.0  2017      1    1  \n",
      "1                   Using LLMs to Train More LLMs      66.0  2017      1    1  \n",
      "2  Using LLMs to Win Friends and Influence People       9.0  2017      1    1  \n",
      "3      Using LLMs to Win More Kaggle Competitions      59.0  2017      1    1  \n",
      "4                      Using LLMs to Write Better      49.0  2017      1    1  \n"
     ]
    }
   ],
   "source": [
    "# Remove Date column\n",
    "combined.drop(columns = ['date'],inplace=True)\n",
    "print(combined.head())"
   ]
  },
  {
   "cell_type": "code",
   "execution_count": 74,
   "id": "dc1a30fd",
   "metadata": {},
   "outputs": [],
   "source": [
    "# Country, store and product- label encoding - convert categorical labels into numerical values. \n",
    "combined['country'] = le.fit_transform(combined['country'])# Transform the values, assign numerical labels to the unique values.\n",
    "combined['store'] = le.fit_transform(combined['store'])\n",
    "combined['product'] = le.fit_transform(combined['product'])"
   ]
  },
  {
   "cell_type": "markdown",
   "id": "3c4f023c",
   "metadata": {},
   "source": [
    "### Machine Learning"
   ]
  },
  {
   "cell_type": "code",
   "execution_count": 75,
   "id": "62b1da61",
   "metadata": {
    "scrolled": false
   },
   "outputs": [
    {
     "name": "stdout",
     "output_type": "stream",
     "text": [
      "   id  country  store  product  num_sold  year  month  day\n",
      "0   0        0      1        0      63.0  2017      1    1\n",
      "1   1        0      1        1      66.0  2017      1    1\n",
      "2   2        0      1        2       9.0  2017      1    1\n",
      "3   3        0      1        3      59.0  2017      1    1\n",
      "4   4        0      1        4      49.0  2017      1    1\n"
     ]
    }
   ],
   "source": [
    "# Split the combined data back into training and test sets.\n",
    "train_data = combined[:len(train_data)]\n",
    "print(train_data.head())"
   ]
  },
  {
   "cell_type": "code",
   "execution_count": 76,
   "id": "19028fb8",
   "metadata": {},
   "outputs": [
    {
     "name": "stdout",
     "output_type": "stream",
     "text": [
      "   id  country  store  product  num_sold  year  month  day\n",
      "0   0        0      1        0      63.0  2017      1    1\n",
      "1   1        0      1        1      66.0  2017      1    1\n",
      "2   2        0      1        2       9.0  2017      1    1\n",
      "3   3        0      1        3      59.0  2017      1    1\n",
      "4   4        0      1        4      49.0  2017      1    1\n"
     ]
    }
   ],
   "source": [
    "test_data = combined[:len(test_data)]\n",
    "print(test_data.head())"
   ]
  },
  {
   "cell_type": "code",
   "execution_count": 77,
   "id": "5b5a44ec",
   "metadata": {},
   "outputs": [
    {
     "name": "stdout",
     "output_type": "stream",
     "text": [
      "   id  country  store  product  year  month  day\n",
      "0   0        0      1        0  2017      1    1\n",
      "1   1        0      1        1  2017      1    1\n",
      "2   2        0      1        2  2017      1    1\n",
      "3   3        0      1        3  2017      1    1\n",
      "4   4        0      1        4  2017      1    1\n"
     ]
    }
   ],
   "source": [
    "# Split the training data into features ('X') and the target variable ('y')\n",
    "# 'num_sold' is variable\n",
    "# others in the df are features\n",
    "\n",
    "# Create a new df X for features, dropping 'num_sold'\n",
    "\n",
    "X = train_data.drop(columns=['num_sold'])\n",
    "\n",
    "print(X.head())"
   ]
  },
  {
   "cell_type": "code",
   "execution_count": 78,
   "id": "15869016",
   "metadata": {},
   "outputs": [
    {
     "name": "stdout",
     "output_type": "stream",
     "text": [
      "0    63.0\n",
      "1    66.0\n",
      "2     9.0\n",
      "3    59.0\n",
      "4    49.0\n",
      "Name: num_sold, dtype: float64\n"
     ]
    }
   ],
   "source": [
    "# Create a new df y for the target variable, including only 'num_sold'\n",
    "\n",
    "y = train_data['num_sold']\n",
    "\n",
    "print(y.head())"
   ]
  },
  {
   "cell_type": "code",
   "execution_count": 79,
   "id": "1da44b60",
   "metadata": {},
   "outputs": [
    {
     "name": "stdout",
     "output_type": "stream",
     "text": [
      "X_train shape: (102712, 7)\n",
      "X_val shape: (34238, 7)\n",
      "y_train shape: (102712,)\n",
      "y_val shape: (34238,)\n"
     ]
    }
   ],
   "source": [
    "# Split the data into training and validation sets\n",
    "\n",
    "X_train,X_val,y_train,y_val = train_test_split(X,y,test_size=0.25,random_state=136950) \n",
    "# X_train: features for training\n",
    "# X_val: features for validation\n",
    "# y_train: target variables for training\n",
    "# y_val: target variables for validation\n",
    "\n",
    "# Display the shapes of the resulting sets\n",
    "print(\"X_train shape:\", X_train.shape)\n",
    "print(\"X_val shape:\", X_val.shape)\n",
    "print(\"y_train shape:\", y_train.shape)\n",
    "print(\"y_val shape:\", y_val.shape)"
   ]
  },
  {
   "cell_type": "code",
   "execution_count": 62,
   "id": "f8c8f865",
   "metadata": {
    "scrolled": true
   },
   "outputs": [
    {
     "data": {
      "text/html": [
       "<style>#sk-container-id-1 {color: black;background-color: white;}#sk-container-id-1 pre{padding: 0;}#sk-container-id-1 div.sk-toggleable {background-color: white;}#sk-container-id-1 label.sk-toggleable__label {cursor: pointer;display: block;width: 100%;margin-bottom: 0;padding: 0.3em;box-sizing: border-box;text-align: center;}#sk-container-id-1 label.sk-toggleable__label-arrow:before {content: \"▸\";float: left;margin-right: 0.25em;color: #696969;}#sk-container-id-1 label.sk-toggleable__label-arrow:hover:before {color: black;}#sk-container-id-1 div.sk-estimator:hover label.sk-toggleable__label-arrow:before {color: black;}#sk-container-id-1 div.sk-toggleable__content {max-height: 0;max-width: 0;overflow: hidden;text-align: left;background-color: #f0f8ff;}#sk-container-id-1 div.sk-toggleable__content pre {margin: 0.2em;color: black;border-radius: 0.25em;background-color: #f0f8ff;}#sk-container-id-1 input.sk-toggleable__control:checked~div.sk-toggleable__content {max-height: 200px;max-width: 100%;overflow: auto;}#sk-container-id-1 input.sk-toggleable__control:checked~label.sk-toggleable__label-arrow:before {content: \"▾\";}#sk-container-id-1 div.sk-estimator input.sk-toggleable__control:checked~label.sk-toggleable__label {background-color: #d4ebff;}#sk-container-id-1 div.sk-label input.sk-toggleable__control:checked~label.sk-toggleable__label {background-color: #d4ebff;}#sk-container-id-1 input.sk-hidden--visually {border: 0;clip: rect(1px 1px 1px 1px);clip: rect(1px, 1px, 1px, 1px);height: 1px;margin: -1px;overflow: hidden;padding: 0;position: absolute;width: 1px;}#sk-container-id-1 div.sk-estimator {font-family: monospace;background-color: #f0f8ff;border: 1px dotted black;border-radius: 0.25em;box-sizing: border-box;margin-bottom: 0.5em;}#sk-container-id-1 div.sk-estimator:hover {background-color: #d4ebff;}#sk-container-id-1 div.sk-parallel-item::after {content: \"\";width: 100%;border-bottom: 1px solid gray;flex-grow: 1;}#sk-container-id-1 div.sk-label:hover label.sk-toggleable__label {background-color: #d4ebff;}#sk-container-id-1 div.sk-serial::before {content: \"\";position: absolute;border-left: 1px solid gray;box-sizing: border-box;top: 0;bottom: 0;left: 50%;z-index: 0;}#sk-container-id-1 div.sk-serial {display: flex;flex-direction: column;align-items: center;background-color: white;padding-right: 0.2em;padding-left: 0.2em;position: relative;}#sk-container-id-1 div.sk-item {position: relative;z-index: 1;}#sk-container-id-1 div.sk-parallel {display: flex;align-items: stretch;justify-content: center;background-color: white;position: relative;}#sk-container-id-1 div.sk-item::before, #sk-container-id-1 div.sk-parallel-item::before {content: \"\";position: absolute;border-left: 1px solid gray;box-sizing: border-box;top: 0;bottom: 0;left: 50%;z-index: -1;}#sk-container-id-1 div.sk-parallel-item {display: flex;flex-direction: column;z-index: 1;position: relative;background-color: white;}#sk-container-id-1 div.sk-parallel-item:first-child::after {align-self: flex-end;width: 50%;}#sk-container-id-1 div.sk-parallel-item:last-child::after {align-self: flex-start;width: 50%;}#sk-container-id-1 div.sk-parallel-item:only-child::after {width: 0;}#sk-container-id-1 div.sk-dashed-wrapped {border: 1px dashed gray;margin: 0 0.4em 0.5em 0.4em;box-sizing: border-box;padding-bottom: 0.4em;background-color: white;}#sk-container-id-1 div.sk-label label {font-family: monospace;font-weight: bold;display: inline-block;line-height: 1.2em;}#sk-container-id-1 div.sk-label-container {text-align: center;}#sk-container-id-1 div.sk-container {/* jupyter's `normalize.less` sets `[hidden] { display: none; }` but bootstrap.min.css set `[hidden] { display: none !important; }` so we also need the `!important` here to be able to override the default hidden behavior on the sphinx rendered scikit-learn.org. See: https://github.com/scikit-learn/scikit-learn/issues/21755 */display: inline-block !important;position: relative;}#sk-container-id-1 div.sk-text-repr-fallback {display: none;}</style><div id=\"sk-container-id-1\" class=\"sk-top-container\"><div class=\"sk-text-repr-fallback\"><pre>RandomForestRegressor(random_state=136950)</pre><b>In a Jupyter environment, please rerun this cell to show the HTML representation or trust the notebook. <br />On GitHub, the HTML representation is unable to render, please try loading this page with nbviewer.org.</b></div><div class=\"sk-container\" hidden><div class=\"sk-item\"><div class=\"sk-estimator sk-toggleable\"><input class=\"sk-toggleable__control sk-hidden--visually\" id=\"sk-estimator-id-1\" type=\"checkbox\" checked><label for=\"sk-estimator-id-1\" class=\"sk-toggleable__label sk-toggleable__label-arrow\">RandomForestRegressor</label><div class=\"sk-toggleable__content\"><pre>RandomForestRegressor(random_state=136950)</pre></div></div></div></div></div>"
      ],
      "text/plain": [
       "RandomForestRegressor(random_state=136950)"
      ]
     },
     "execution_count": 62,
     "metadata": {},
     "output_type": "execute_result"
    }
   ],
   "source": [
    "# Train a random forest regressor model.\n",
    "# Create a Random Forest Regressor model with 100 trees.\n",
    "\n",
    "model = RandomForestRegressor(n_estimators=100, random_state=136950)\n",
    "\n",
    "# Fit the model to the traning data.\n",
    "\n",
    "model.fit(X_train, y_train)\n",
    "\n",
    "# After running this code, the model variable will contain the trained Random Forest Regressor."
   ]
  },
  {
   "cell_type": "markdown",
   "id": "e47275d6",
   "metadata": {},
   "source": [
    "#### Use the trained model (model) to make predictions on a validation dataset "
   ]
  },
  {
   "cell_type": "code",
   "execution_count": 63,
   "id": "bca94569",
   "metadata": {},
   "outputs": [],
   "source": [
    "# Use 'model.predict'(X_val) to obtain predictions for the validation set (X_val). \n",
    "\n",
    "y_pred = model.predict(X_val)\n"
   ]
  },
  {
   "cell_type": "code",
   "execution_count": 64,
   "id": "b724d56f",
   "metadata": {},
   "outputs": [
    {
     "name": "stdout",
     "output_type": "stream",
     "text": [
      "Mean Absolute Error: 12.192227057655236\n"
     ]
    }
   ],
   "source": [
    "# Evaluate the model's performance using appropriate metrics, such as mean absolute error or mean squared error, on both the training and validation sets.\n",
    "# Calculate mean absolute error.\n",
    "\n",
    "mae = mean_absolute_error(y_val, y_pred)\n",
    "print(f'Mean Absolute Error: {mae}')"
   ]
  },
  {
   "cell_type": "markdown",
   "id": "5759174e",
   "metadata": {},
   "source": [
    "On average, this model's predictions have an absolute error of around 12.19 units."
   ]
  },
  {
   "cell_type": "code",
   "execution_count": 80,
   "id": "ae747bc2",
   "metadata": {},
   "outputs": [
    {
     "name": "stdout",
     "output_type": "stream",
     "text": [
      "num_sold Index(['id', 'country', 'store', 'product', 'num_sold', 'year', 'month',\n",
      "       'day'],\n",
      "      dtype='object')\n"
     ]
    }
   ],
   "source": [
    "# Display the columns in test_data\n",
    "print(\"num_sold\", test_data.columns)"
   ]
  },
  {
   "cell_type": "code",
   "execution_count": 81,
   "id": "e03899f8",
   "metadata": {},
   "outputs": [],
   "source": [
    "# Use 'model.predict'to make predictions on the test set\n",
    "\n",
    "test_predictions = model.predict(test_data.drop(columns=['num_sold']))"
   ]
  },
  {
   "cell_type": "code",
   "execution_count": 83,
   "id": "04d519f2",
   "metadata": {},
   "outputs": [
    {
     "name": "stdout",
     "output_type": "stream",
     "text": [
      "   id  num_sold\n",
      "0   0     61.27\n",
      "1   1     62.67\n",
      "2   2      8.09\n",
      "3   3     43.67\n",
      "4   4     43.77\n"
     ]
    }
   ],
   "source": [
    "# Create a submission df\n",
    "submission = pd.DataFrame({'id': test_data['id'], 'num_sold': test_predictions})\n",
    "\n",
    "print(submission.head())"
   ]
  },
  {
   "cell_type": "code",
   "execution_count": null,
   "id": "6a48e6d5",
   "metadata": {},
   "outputs": [],
   "source": [
    "# Save the submission DataFrame to a CSV file\n",
    "submission.to_csv('/kaggle/working/submission.csv', index=False)"
   ]
  }
 ],
 "metadata": {
  "kernelspec": {
   "display_name": "Python 3 (ipykernel)",
   "language": "python",
   "name": "python3"
  },
  "language_info": {
   "codemirror_mode": {
    "name": "ipython",
    "version": 3
   },
   "file_extension": ".py",
   "mimetype": "text/x-python",
   "name": "python",
   "nbconvert_exporter": "python",
   "pygments_lexer": "ipython3",
   "version": "3.10.9"
  }
 },
 "nbformat": 4,
 "nbformat_minor": 5
}
